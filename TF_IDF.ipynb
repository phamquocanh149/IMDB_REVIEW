{
  "nbformat": 4,
  "nbformat_minor": 0,
  "metadata": {
    "colab": {
      "provenance": [],
      "authorship_tag": "ABX9TyOOfbLhoPc2EM94Kz2G1BdD",
      "include_colab_link": true
    },
    "kernelspec": {
      "name": "python3",
      "display_name": "Python 3"
    },
    "language_info": {
      "name": "python"
    }
  },
  "cells": [
    {
      "cell_type": "markdown",
      "metadata": {
        "id": "view-in-github",
        "colab_type": "text"
      },
      "source": [
        "<a href=\"https://colab.research.google.com/github/phamquocanh149/IMDB_REVIEW/blob/main/TF_IDF.ipynb\" target=\"_parent\"><img src=\"https://colab.research.google.com/assets/colab-badge.svg\" alt=\"Open In Colab\"/></a>"
      ]
    },
    {
      "cell_type": "code",
      "execution_count": null,
      "metadata": {
        "id": "HCaoJqahjgDj"
      },
      "outputs": [],
      "source": [
        "from datasets import load_dataset\n",
        "\n",
        "imdb = load_dataset(\"imdb\")\n",
        "train_data, test_data = imdb['train'], imdb['test']"
      ]
    },
    {
      "cell_type": "code",
      "source": [
        "import pandas as pd\n",
        "import numpy as np\n",
        "from sklearn.feature_extraction.text import TfidfVectorizer\n",
        "from sklearn.model_selection import train_test_split\n",
        "from sklearn.metrics import classification_report, confusion_matrix, accuracy_score\n",
        "from sklearn.preprocessing import LabelEncoder"
      ],
      "metadata": {
        "id": "uuwbkB4Zj2uE"
      },
      "execution_count": null,
      "outputs": []
    },
    {
      "cell_type": "code",
      "source": [
        "print(train_data.shape)\n",
        "print(test_data.shape)"
      ],
      "metadata": {
        "id": "LwHM51m6kZwb",
        "colab": {
          "base_uri": "https://localhost:8080/"
        },
        "outputId": "48f61906-0c55-4b82-ff0c-c88a41eebf24"
      },
      "execution_count": null,
      "outputs": [
        {
          "output_type": "stream",
          "name": "stdout",
          "text": [
            "(25000, 2)\n",
            "(25000, 2)\n"
          ]
        }
      ]
    },
    {
      "cell_type": "code",
      "source": [
        "train_df = train_data.to_pandas()\n",
        "test_df = test_data.to_pandas()\n",
        "train_df[\"text\"] = train_df[\"text\"].str.lower()\n",
        "test_df[\"text\"] = test_df[\"text\"].str.lower()\n",
        "print(train_df.head())\n",
        "print(\"---------------------------------------------\")\n",
        "print(test_df.head())"
      ],
      "metadata": {
        "id": "qY6_OatblUpo",
        "colab": {
          "base_uri": "https://localhost:8080/"
        },
        "outputId": "b0e52f3a-380b-4bdc-d00c-84428e9ac8df"
      },
      "execution_count": null,
      "outputs": [
        {
          "output_type": "stream",
          "name": "stdout",
          "text": [
            "                                                text  label\n",
            "0  i rented i am curious-yellow from my video sto...      0\n",
            "1  \"i am curious: yellow\" is a risible and preten...      0\n",
            "2  if only to avoid making this type of film in t...      0\n",
            "3  this film was probably inspired by godard's ma...      0\n",
            "4  oh, brother...after hearing about this ridicul...      0\n",
            "---------------------------------------------\n",
            "                                                text  label\n",
            "0  i love sci-fi and am willing to put up with a ...      0\n",
            "1  worth the entertainment value of a rental, esp...      0\n",
            "2  its a totally average film with a few semi-alr...      0\n",
            "3  star rating: ***** saturday night **** friday ...      0\n",
            "4  first off let me say, if you haven't enjoyed a...      0\n"
          ]
        }
      ]
    },
    {
      "cell_type": "code",
      "source": [
        "vectorizer = TfidfVectorizer(max_features=18000, max_df=0.85, min_df = 2, stop_words='english')\n",
        "X_train = vectorizer.fit_transform(train_df['text'])\n",
        "X_test = vectorizer.transform(test_df['text'])"
      ],
      "metadata": {
        "id": "QGzZ-i2IlgPo"
      },
      "execution_count": null,
      "outputs": []
    },
    {
      "cell_type": "code",
      "source": [
        "y_train = train_df['label']\n",
        "y_test = test_df['label']"
      ],
      "metadata": {
        "id": "yspnmJ8VmAm5"
      },
      "execution_count": null,
      "outputs": []
    },
    {
      "cell_type": "code",
      "source": [
        "from sklearn.linear_model import LogisticRegression\n",
        "model1 = LogisticRegression()\n",
        "model1.fit(X_train, y_train)\n",
        "y_train_pred1 = model1.predict(X_train)\n",
        "y_pred1 = model1.predict(X_test)\n",
        "print(f\"Train Accuracy: {accuracy_score(y_train, y_train_pred1)}\")\n",
        "print(f\"Test Accuracy: {accuracy_score(y_test, y_pred1)}\")\n",
        "print(\"---------------------------------------------\")\n",
        "print(classification_report(y_test, y_pred1))\n"
      ],
      "metadata": {
        "id": "bLUctM-kl7X5",
        "colab": {
          "base_uri": "https://localhost:8080/"
        },
        "outputId": "a40dd9f7-8d7e-4946-f65c-4a62f56cf1e7"
      },
      "execution_count": null,
      "outputs": [
        {
          "output_type": "stream",
          "name": "stdout",
          "text": [
            "Train Accuracy: 0.9326\n",
            "Test Accuracy: 0.88024\n",
            "---------------------------------------------\n",
            "              precision    recall  f1-score   support\n",
            "\n",
            "           0       0.88      0.88      0.88     12500\n",
            "           1       0.88      0.88      0.88     12500\n",
            "\n",
            "    accuracy                           0.88     25000\n",
            "   macro avg       0.88      0.88      0.88     25000\n",
            "weighted avg       0.88      0.88      0.88     25000\n",
            "\n"
          ]
        }
      ]
    },
    {
      "cell_type": "code",
      "source": [
        "from sklearn.ensemble import RandomForestClassifier\n",
        "model2 = RandomForestClassifier(n_estimators=300, max_depth = 20, min_samples_split=5)\n",
        "model2.fit(X_train, y_train)\n",
        "y_train_pred2 = model2.predict(X_train)\n",
        "y_pred2 = model2.predict(X_test)\n",
        "print(f\"Train Accuracy: {accuracy_score(y_train, y_train_pred2)}\")\n",
        "print(f\"Test Accuracy: {accuracy_score(y_test, y_pred2)}\")\n",
        "print(\"---------------------------------------------\")\n",
        "print(classification_report(y_test, y_pred2))"
      ],
      "metadata": {
        "id": "rhmZ57BEmuQB",
        "colab": {
          "base_uri": "https://localhost:8080/"
        },
        "outputId": "bbe857df-7a07-4aab-e1ce-5dea1eac8a57"
      },
      "execution_count": null,
      "outputs": [
        {
          "output_type": "stream",
          "name": "stdout",
          "text": [
            "Train Accuracy: 0.92236\n",
            "Test Accuracy: 0.84252\n",
            "---------------------------------------------\n",
            "              precision    recall  f1-score   support\n",
            "\n",
            "           0       0.86      0.82      0.84     12500\n",
            "           1       0.83      0.87      0.85     12500\n",
            "\n",
            "    accuracy                           0.84     25000\n",
            "   macro avg       0.84      0.84      0.84     25000\n",
            "weighted avg       0.84      0.84      0.84     25000\n",
            "\n"
          ]
        }
      ]
    },
    {
      "cell_type": "code",
      "source": [],
      "metadata": {
        "id": "OBEz42a2rH7E"
      },
      "execution_count": null,
      "outputs": []
    }
  ]
}