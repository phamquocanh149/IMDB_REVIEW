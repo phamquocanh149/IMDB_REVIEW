{
  "nbformat": 4,
  "nbformat_minor": 0,
  "metadata": {
    "colab": {
      "provenance": [],
      "gpuType": "T4",
      "authorship_tag": "ABX9TyM2poR6hY5HaRL6CANGlhQJ",
      "include_colab_link": true
    },
    "kernelspec": {
      "name": "python3",
      "display_name": "Python 3"
    },
    "language_info": {
      "name": "python"
    },
    "accelerator": "GPU"
  },
  "cells": [
    {
      "cell_type": "markdown",
      "metadata": {
        "id": "view-in-github",
        "colab_type": "text"
      },
      "source": [
        "<a href=\"https://colab.research.google.com/github/phamquocanh149/IMDB_REVIEW/blob/main/BOW.ipynb\" target=\"_parent\"><img src=\"https://colab.research.google.com/assets/colab-badge.svg\" alt=\"Open In Colab\"/></a>"
      ]
    },
    {
      "cell_type": "code",
      "execution_count": 16,
      "metadata": {
        "id": "E2qEMqncovwN"
      },
      "outputs": [],
      "source": [
        "from datasets import load_dataset\n",
        "\n",
        "imdb = load_dataset(\"imdb\")\n",
        "train_data, test_data = imdb['train'], imdb['test']"
      ]
    },
    {
      "cell_type": "code",
      "source": [
        "import pandas as pd\n",
        "import numpy as np\n",
        "from sklearn.model_selection import train_test_split\n",
        "from sklearn.metrics import classification_report, confusion_matrix, accuracy_score\n",
        "from sklearn.preprocessing import LabelEncoder"
      ],
      "metadata": {
        "id": "OJZRMUZitOh4"
      },
      "execution_count": 17,
      "outputs": []
    },
    {
      "cell_type": "code",
      "source": [
        "print(train_data.shape)\n",
        "print(test_data.shape)"
      ],
      "metadata": {
        "colab": {
          "base_uri": "https://localhost:8080/"
        },
        "id": "KVSx_74ttPcM",
        "outputId": "c7e0aa94-4748-421b-f526-8b62ca1a093f"
      },
      "execution_count": 18,
      "outputs": [
        {
          "output_type": "stream",
          "name": "stdout",
          "text": [
            "(25000, 2)\n",
            "(25000, 2)\n"
          ]
        }
      ]
    },
    {
      "cell_type": "code",
      "source": [
        "train_df = train_data.to_pandas()\n",
        "test_df = test_data.to_pandas()\n",
        "train_df[\"text\"] = train_df[\"text\"].str.lower()\n",
        "test_df[\"text\"] = test_df[\"text\"].str.lower()\n",
        "print(train_df.head())\n",
        "print(\"---------------------------------------------\")\n",
        "print(test_df.head())"
      ],
      "metadata": {
        "colab": {
          "base_uri": "https://localhost:8080/"
        },
        "id": "Xv3AdguBtmrG",
        "outputId": "f8c0c85a-d601-4d7b-a626-3178a585227b"
      },
      "execution_count": 19,
      "outputs": [
        {
          "output_type": "stream",
          "name": "stdout",
          "text": [
            "                                                text  label\n",
            "0  i rented i am curious-yellow from my video sto...      0\n",
            "1  \"i am curious: yellow\" is a risible and preten...      0\n",
            "2  if only to avoid making this type of film in t...      0\n",
            "3  this film was probably inspired by godard's ma...      0\n",
            "4  oh, brother...after hearing about this ridicul...      0\n",
            "---------------------------------------------\n",
            "                                                text  label\n",
            "0  i love sci-fi and am willing to put up with a ...      0\n",
            "1  worth the entertainment value of a rental, esp...      0\n",
            "2  its a totally average film with a few semi-alr...      0\n",
            "3  star rating: ***** saturday night **** friday ...      0\n",
            "4  first off let me say, if you haven't enjoyed a...      0\n"
          ]
        }
      ]
    },
    {
      "cell_type": "code",
      "source": [
        "from sklearn.feature_extraction.text import CountVectorizer"
      ],
      "metadata": {
        "id": "Y_V7Tfjnte-W"
      },
      "execution_count": 20,
      "outputs": []
    },
    {
      "cell_type": "code",
      "source": [
        "vectorizer = CountVectorizer(stop_words='english', max_features=18000, min_df = 2, max_df = 0.8)\n",
        "X_train = vectorizer.fit_transform(train_df[\"text\"])\n",
        "X_test = vectorizer.transform(test_df[\"text\"])\n",
        "print(X_train.shape)\n",
        "print(X_test.shape)"
      ],
      "metadata": {
        "colab": {
          "base_uri": "https://localhost:8080/"
        },
        "id": "H058C0w-uQTt",
        "outputId": "574e0db0-4fa2-4e82-b910-5e359308a6c0"
      },
      "execution_count": 21,
      "outputs": [
        {
          "output_type": "stream",
          "name": "stdout",
          "text": [
            "(25000, 18000)\n",
            "(25000, 18000)\n"
          ]
        }
      ]
    },
    {
      "cell_type": "code",
      "source": [
        "y_train = train_df['label']\n",
        "y_test = test_df['label']"
      ],
      "metadata": {
        "id": "mY4yAbmTvLQL"
      },
      "execution_count": 22,
      "outputs": []
    },
    {
      "cell_type": "code",
      "source": [
        "from sklearn.linear_model import LogisticRegression\n",
        "model1 = LogisticRegression()\n",
        "model1.fit(X_train, y_train)\n",
        "y_train_pred1 = model1.predict(X_train)\n",
        "y_pred1 = model1.predict(X_test)\n",
        "print(f\"Train Accuracy: {accuracy_score(y_train, y_train_pred1)}\")\n",
        "print(f\"Test Accuracy: {accuracy_score(y_test, y_pred1)}\")\n",
        "print(\"---------------------------------------------\")\n",
        "print(classification_report(y_test, y_pred1))"
      ],
      "metadata": {
        "colab": {
          "base_uri": "https://localhost:8080/"
        },
        "id": "9aMiA_utvQZI",
        "outputId": "4d10cfda-ecd7-4f47-86e5-569b45c17feb"
      },
      "execution_count": 23,
      "outputs": [
        {
          "output_type": "stream",
          "name": "stdout",
          "text": [
            "Train Accuracy: 0.99504\n",
            "Test Accuracy: 0.85448\n",
            "---------------------------------------------\n",
            "              precision    recall  f1-score   support\n",
            "\n",
            "           0       0.85      0.87      0.86     12500\n",
            "           1       0.86      0.84      0.85     12500\n",
            "\n",
            "    accuracy                           0.85     25000\n",
            "   macro avg       0.85      0.85      0.85     25000\n",
            "weighted avg       0.85      0.85      0.85     25000\n",
            "\n"
          ]
        },
        {
          "output_type": "stream",
          "name": "stderr",
          "text": [
            "/usr/local/lib/python3.12/dist-packages/sklearn/linear_model/_logistic.py:465: ConvergenceWarning: lbfgs failed to converge (status=1):\n",
            "STOP: TOTAL NO. OF ITERATIONS REACHED LIMIT.\n",
            "\n",
            "Increase the number of iterations (max_iter) or scale the data as shown in:\n",
            "    https://scikit-learn.org/stable/modules/preprocessing.html\n",
            "Please also refer to the documentation for alternative solver options:\n",
            "    https://scikit-learn.org/stable/modules/linear_model.html#logistic-regression\n",
            "  n_iter_i = _check_optimize_result(\n"
          ]
        }
      ]
    },
    {
      "cell_type": "code",
      "source": [
        "from sklearn.ensemble import RandomForestClassifier\n",
        "model2 = RandomForestClassifier(n_estimators=300, max_depth = 20, min_samples_split=5)\n",
        "model2.fit(X_train, y_train)\n",
        "y_train_pred2 = model2.predict(X_train)\n",
        "y_pred2 = model2.predict(X_test)\n",
        "print(f\"Train Accuracy: {accuracy_score(y_train, y_train_pred2)}\")\n",
        "print(f\"Test Accuracy: {accuracy_score(y_test, y_pred2)}\")\n",
        "print(\"---------------------------------------------\")\n",
        "print(classification_report(y_test, y_pred2))"
      ],
      "metadata": {
        "colab": {
          "base_uri": "https://localhost:8080/"
        },
        "id": "3Fm9zfp9vUtS",
        "outputId": "3a037563-488c-4bbc-ed15-ee198d1d29d6"
      },
      "execution_count": 24,
      "outputs": [
        {
          "output_type": "stream",
          "name": "stdout",
          "text": [
            "Train Accuracy: 0.91128\n",
            "Test Accuracy: 0.84324\n",
            "---------------------------------------------\n",
            "              precision    recall  f1-score   support\n",
            "\n",
            "           0       0.86      0.81      0.84     12500\n",
            "           1       0.82      0.87      0.85     12500\n",
            "\n",
            "    accuracy                           0.84     25000\n",
            "   macro avg       0.84      0.84      0.84     25000\n",
            "weighted avg       0.84      0.84      0.84     25000\n",
            "\n"
          ]
        }
      ]
    },
    {
      "cell_type": "code",
      "source": [
        "from sklearn.tree import DecisionTreeClassifier\n",
        "model3 = DecisionTreeClassifier(max_depth = 20)\n",
        "model3.fit(X_train, y_train)\n",
        "y_train_pred3 = model3.predict(X_train)\n",
        "y_pred3 = model3.predict(X_test)\n",
        "print(f\"Train Accuracy: {accuracy_score(y_train, y_train_pred3)}\")\n",
        "print(f\"Test Accuracy: {accuracy_score(y_test, y_pred3)}\")\n",
        "print(\"---------------------------------------------\")\n",
        "print(classification_report(y_test, y_pred3))\n"
      ],
      "metadata": {
        "colab": {
          "base_uri": "https://localhost:8080/"
        },
        "id": "LLWjS2c_vj_C",
        "outputId": "7aee7c95-4878-4f6f-c277-eec5286479f0"
      },
      "execution_count": 25,
      "outputs": [
        {
          "output_type": "stream",
          "name": "stdout",
          "text": [
            "Train Accuracy: 0.84492\n",
            "Test Accuracy: 0.74032\n",
            "---------------------------------------------\n",
            "              precision    recall  f1-score   support\n",
            "\n",
            "           0       0.78      0.68      0.72     12500\n",
            "           1       0.71      0.80      0.76     12500\n",
            "\n",
            "    accuracy                           0.74     25000\n",
            "   macro avg       0.74      0.74      0.74     25000\n",
            "weighted avg       0.74      0.74      0.74     25000\n",
            "\n"
          ]
        }
      ]
    }
  ]
}