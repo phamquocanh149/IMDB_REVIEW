{
  "cells": [
    {
      "cell_type": "markdown",
      "metadata": {
        "id": "view-in-github",
        "colab_type": "text"
      },
      "source": [
        "<a href=\"https://colab.research.google.com/github/phamquocanh149/IMDB_REVIEW/blob/main/BERT.ipynb\" target=\"_parent\"><img src=\"https://colab.research.google.com/assets/colab-badge.svg\" alt=\"Open In Colab\"/></a>"
      ]
    },
    {
      "cell_type": "code",
      "execution_count": null,
      "metadata": {
        "id": "3wORU0N8pOx7"
      },
      "outputs": [],
      "source": [
        "import torch\n",
        "import torch.nn as nn\n",
        "from transformers import BertTokenizer, BertModel\n",
        "from datasets import load_dataset\n",
        "from torch.utils.data import DataLoader\n",
        "from torch.optim import AdamW\n"
      ]
    },
    {
      "cell_type": "code",
      "execution_count": null,
      "metadata": {
        "colab": {
          "base_uri": "https://localhost:8080/",
          "height": 493,
          "referenced_widgets": [
            "4197031b20a34955902dd60018e271c9",
            "38034364b286476dbadc9cff61c5db3e",
            "b23bebd77f7549dd9a3fb3107191e3e4",
            "7bc07fbdaba44e6e8505b3e2e44d23f0",
            "0376b20a448f43e9b3420a2a6c09f0e3",
            "ba9eed6dc60e49f5984c4b67618935f0",
            "2d04fb05a38941c78032f818d2f89aa4",
            "3e1bdc69327d44e0a8d320fb6c6355cf",
            "6ac55730d4a74c739d7d89184f1cdc3f",
            "7029698bdcbe4f97ba7802a7e6ffb392",
            "8b474519db754b8d9d2e26ec1803ab6a",
            "019ca5ddb5a6417aba2e5fc656ac01da",
            "c931f5617a6748f88ee457700529bc99",
            "4995484c78c64284a351919a72dafe31",
            "fb1f62e4d61f4487bc27dfd71bedd5b6",
            "23c2b45fbb2c4ce387dab16fab4b9f8c",
            "bd56bc055f744fbd8259c0e50be816f0",
            "688598f04bd741e5b7f0c0d9bbe5150e",
            "756f4b99a7f04e68bcbf7eaf41cbf3d1",
            "4cd810613d994a4bb56a95553fa5c4dc",
            "77fde95fd01c4047aa079c53b173871b",
            "e0a65a323c784bf7abdf9e0b123f552d",
            "59ffde3ca2014811a2229697cc9d98be",
            "d1222e3191c64f0884376e74bdb69dea",
            "7e466fa133e645ea969bd3209ca85526",
            "ab26c751716e4664a07be6c97d150353",
            "3a8b2aa3f99a4477b1a8704a27769f6e",
            "34daf2b92e4346cea92f558ed072c2bf",
            "c94fcaa4a2fa4fdd8509a50de722980b",
            "212e3607471b4d29ac8196eff6e5e94a",
            "ddfc599fc4fa40ccaca12f206a62cdde",
            "0459fb0238e34371bcd2733d7414adcd",
            "a8306080bd6f419c8c37da5e86882900",
            "35325cf2dbd94f3aa1bbdc708bdaca6b",
            "aeff54482ef7490a802f3678c4263cf7",
            "3f0c8d41dad84179bc176011ce6b27d1",
            "504a83bd2fcc4d22b0e018851a7b83a4",
            "206822b169614ed8ac007b2e76976a26",
            "d1de7c92c2274ab9880075dbdd519169",
            "c7f215b5a65c4286839125aac9484e2e",
            "6acbb5998a3c45b4822776bf415cd8bf",
            "604a9f57effb48b9979a01d097436a73",
            "6e54f1645f8344d384cf480e97481b7f",
            "5c7d5bd2c9f5442599cddb4bd1b3eb9c",
            "487b408cfc274e6a9b2d490acf31b632",
            "4996dc238de640f1a599e7fd26848fe3",
            "58db3b0a4bfc40d5aeabc864a8bc67d1",
            "4963853e6cb04a55851ab7a74dcf30af",
            "67e875b151d64cbf80d8e927c7589b2f",
            "ff36f299f1da4d67b43887af50bcacae",
            "b393a9abf96c4c4497ebc9841fb334ca",
            "4744969ef11e4d55a3cb1726c26d9306",
            "55d2f357e8444a3b93a09a0040f635a2",
            "81720b4fc899438f9d274464e3d2c05e",
            "00a942662295421b8b2bba97450dff0d",
            "974a02cf65744263b0a104e0aa6c2acd",
            "0b957a38f82a413ea877ba3e080aa30b",
            "1de5bb0063b54192b89acee00c6589c5",
            "1f04fd1c499c44459d00b9e4253313a9",
            "e15ab10dc23942789d39ed529bb3ee57",
            "db232e32252f4e9ca05480afaf278445",
            "ba30f281f4864dc688f49aece0fa42f9",
            "02caa8bbc4ce4ca39de79090f7144f29",
            "68d4699814704b9d826c83c8ce1d71c0",
            "56465bc942044095851e2ef28c485399",
            "11f81666949141fca9268caa8b899e76",
            "59d775e425b547fcbce9fa77541031bd",
            "8ffdcdc59dc340b6aaa3158a79064a06",
            "d63fd337a0d642ad954c6bd2f499739a",
            "f135201334c04c31b71a3e0fdb5fa773",
            "747da1f3a652472684d7b4d5de17c9b8",
            "d39662e5dcfc4d98ad642ec16a338acf",
            "c6110f3b33fe4d1485fcdc7a9f89a662",
            "431925c880a343f786537d0d56ea38e0",
            "37b2958125ac4a99a6aa3cdffcac97c9",
            "672ce0a96a7a4096b2770ce8dd97b0ca",
            "40e16d78d1b0410cb64d25fb9059b180",
            "09d7ae1684a64b6683bedf560eb83ff3",
            "802ac16416a14565b0ec4cba7513e14a",
            "fa388948750c42daa618768030260ae1",
            "1139a5fbbc9c4ffcb79ea5a1fa4a5db7",
            "f3798c6a97d24c179e1aa1e55709b015",
            "c4633790735449b39e6a4576543172db",
            "3c6d8c72f8144bdc863c1ba78d1916f2",
            "a652685ac6854e0983ce4b3d86a29441",
            "75eeabd006484cf6b64d4dbc44dd298d",
            "fa3e1f5f0bd84337b903fe8cea161353",
            "767d9e3f86fd4d2ca6f301e28f8ce93f",
            "dd7eb4f6f86647c185ddf0288064c05b",
            "2b1b9ec481744fd6996ee945018c40a2",
            "f3795ca7be774c77a57cf7ba76a671ce",
            "dcbf2dc221294aca845558dce74a9b40",
            "c92755869480420c81eb3e2ff330e8b0",
            "78f564322742496d95089c7048d0678f",
            "97003fe9b78849828a237853b4801e58",
            "2e76e5a59b3a4ac1bf32554c5d6a7f13",
            "e48f24fd49004e3da907e044256cc014",
            "c8e149be06f54a9b8f73c99a2482e725",
            "36233e422e1d45cc8b75ca8dfb3837b1",
            "a04e4b59e9174f85a256152779f28ca1",
            "9609bce9e1e24b738be708b5a7bd452c",
            "50966d68b42845c1b99761e6259931ac",
            "361a65eb9a8b400fbb905f36aaef00fe",
            "0c0e695247234dc788cd06bf52191e9a",
            "f960ba9607824d67addc588ed65f0099",
            "46d0a5b5a2224f65b80f805c08d83dbf",
            "64311844ff8546399706e1aa32bd1756",
            "fda36c08b22c45288ba54c6c6b8c1257",
            "716d6d49d7654521a74fd4202512e2b4",
            "550e2d99cb1d480b8e90f1ddefeccdbe",
            "b8b26abdc8c0424ca7fb702884005d77",
            "57c6636c9e3d40e586cf351a2c923180",
            "01cb61acf23c47acb847036464d4d91e",
            "a8a4c1fa72c943e19faa7a8955eb04ee",
            "a81c5afa620c465cbb358ff62ae6543c",
            "9f19b8e1666a41608036cca22f10fdc5",
            "e8191db2e81f4425b90e1dc03a485c98",
            "410fe14df993484faa56513bc3ce2d72",
            "2805ff26438e40da89027ba144a65d6a",
            "07f112cf26234c4c97f7a991ac57d557",
            "7c24bad1b33f42449a2355c3fbff4281"
          ]
        },
        "id": "RT_tI6yRpU9L",
        "outputId": "e6b01db2-3369-4adc-c50b-11fa590288d3"
      },
      "outputs": [
        {
          "name": "stderr",
          "output_type": "stream",
          "text": [
            "/usr/local/lib/python3.12/dist-packages/huggingface_hub/utils/_auth.py:94: UserWarning: \n",
            "The secret `HF_TOKEN` does not exist in your Colab secrets.\n",
            "To authenticate with the Hugging Face Hub, create a token in your settings tab (https://huggingface.co/settings/tokens), set it as secret in your Google Colab and restart your session.\n",
            "You will be able to reuse this secret in all of your notebooks.\n",
            "Please note that authentication is recommended but still optional to access public models or datasets.\n",
            "  warnings.warn(\n"
          ]
        },
        {
          "data": {
            "application/vnd.jupyter.widget-view+json": {
              "model_id": "4197031b20a34955902dd60018e271c9",
              "version_major": 2,
              "version_minor": 0
            },
            "text/plain": [
              "README.md: 0.00B [00:00, ?B/s]"
            ]
          },
          "metadata": {},
          "output_type": "display_data"
        },
        {
          "data": {
            "application/vnd.jupyter.widget-view+json": {
              "model_id": "019ca5ddb5a6417aba2e5fc656ac01da",
              "version_major": 2,
              "version_minor": 0
            },
            "text/plain": [
              "plain_text/train-00000-of-00001.parquet:   0%|          | 0.00/21.0M [00:00<?, ?B/s]"
            ]
          },
          "metadata": {},
          "output_type": "display_data"
        },
        {
          "data": {
            "application/vnd.jupyter.widget-view+json": {
              "model_id": "59ffde3ca2014811a2229697cc9d98be",
              "version_major": 2,
              "version_minor": 0
            },
            "text/plain": [
              "plain_text/test-00000-of-00001.parquet:   0%|          | 0.00/20.5M [00:00<?, ?B/s]"
            ]
          },
          "metadata": {},
          "output_type": "display_data"
        },
        {
          "data": {
            "application/vnd.jupyter.widget-view+json": {
              "model_id": "35325cf2dbd94f3aa1bbdc708bdaca6b",
              "version_major": 2,
              "version_minor": 0
            },
            "text/plain": [
              "plain_text/unsupervised-00000-of-00001.p(…):   0%|          | 0.00/42.0M [00:00<?, ?B/s]"
            ]
          },
          "metadata": {},
          "output_type": "display_data"
        },
        {
          "data": {
            "application/vnd.jupyter.widget-view+json": {
              "model_id": "487b408cfc274e6a9b2d490acf31b632",
              "version_major": 2,
              "version_minor": 0
            },
            "text/plain": [
              "Generating train split:   0%|          | 0/25000 [00:00<?, ? examples/s]"
            ]
          },
          "metadata": {},
          "output_type": "display_data"
        },
        {
          "data": {
            "application/vnd.jupyter.widget-view+json": {
              "model_id": "974a02cf65744263b0a104e0aa6c2acd",
              "version_major": 2,
              "version_minor": 0
            },
            "text/plain": [
              "Generating test split:   0%|          | 0/25000 [00:00<?, ? examples/s]"
            ]
          },
          "metadata": {},
          "output_type": "display_data"
        },
        {
          "data": {
            "application/vnd.jupyter.widget-view+json": {
              "model_id": "59d775e425b547fcbce9fa77541031bd",
              "version_major": 2,
              "version_minor": 0
            },
            "text/plain": [
              "Generating unsupervised split:   0%|          | 0/50000 [00:00<?, ? examples/s]"
            ]
          },
          "metadata": {},
          "output_type": "display_data"
        },
        {
          "data": {
            "application/vnd.jupyter.widget-view+json": {
              "model_id": "09d7ae1684a64b6683bedf560eb83ff3",
              "version_major": 2,
              "version_minor": 0
            },
            "text/plain": [
              "tokenizer_config.json:   0%|          | 0.00/48.0 [00:00<?, ?B/s]"
            ]
          },
          "metadata": {},
          "output_type": "display_data"
        },
        {
          "data": {
            "application/vnd.jupyter.widget-view+json": {
              "model_id": "dd7eb4f6f86647c185ddf0288064c05b",
              "version_major": 2,
              "version_minor": 0
            },
            "text/plain": [
              "vocab.txt:   0%|          | 0.00/232k [00:00<?, ?B/s]"
            ]
          },
          "metadata": {},
          "output_type": "display_data"
        },
        {
          "data": {
            "application/vnd.jupyter.widget-view+json": {
              "model_id": "a04e4b59e9174f85a256152779f28ca1",
              "version_major": 2,
              "version_minor": 0
            },
            "text/plain": [
              "tokenizer.json:   0%|          | 0.00/466k [00:00<?, ?B/s]"
            ]
          },
          "metadata": {},
          "output_type": "display_data"
        },
        {
          "data": {
            "application/vnd.jupyter.widget-view+json": {
              "model_id": "b8b26abdc8c0424ca7fb702884005d77",
              "version_major": 2,
              "version_minor": 0
            },
            "text/plain": [
              "config.json:   0%|          | 0.00/570 [00:00<?, ?B/s]"
            ]
          },
          "metadata": {},
          "output_type": "display_data"
        }
      ],
      "source": [
        "dataset = load_dataset(\"imdb\")\n",
        "tokenizer = BertTokenizer.from_pretrained(\"bert-base-uncased\")"
      ]
    },
    {
      "cell_type": "code",
      "execution_count": null,
      "metadata": {
        "id": "CN2JsJJsqCiq"
      },
      "outputs": [],
      "source": [
        "def preprocess(data):\n",
        "    return tokenizer(data[\"text\"], padding=\"max_length\", truncation=True, max_length=256)\n"
      ]
    },
    {
      "cell_type": "code",
      "execution_count": null,
      "metadata": {
        "colab": {
          "base_uri": "https://localhost:8080/",
          "height": 113,
          "referenced_widgets": [
            "2d69084dda4140b796b68e23993e0c6a",
            "7cc0af1e48a64a8ca120b92087d30599",
            "8a058dd21c9742909012431731b81e04",
            "ea4aba41350845b98d31a6aff45b38cd",
            "e199738a169a4f05ad17ba5f6168b621",
            "c0b7a7bec584487ca933f50d944ebd23",
            "480670c83a114773ab98d8cb814e47b5",
            "f9be3c76f74f4c7dbae84fad6057fc9a",
            "df404b22db2b45599a52bbda5744b9a4",
            "ea295cd9e7094260b3610233e8ef7893",
            "b13200db9d4244c7a0d4caace7701e0a",
            "5f86f920288d424680354e2ac3553f91",
            "765c03863caf43f9a90c4281a93025d1",
            "b3cdbea24f884ac7a133271f067cd005",
            "4e291f8a5f504372a46449a132eda325",
            "f7d9172be5774d908685f6532a706ff2",
            "c00194de3849453fada36af6d5ebb41b",
            "87e3d2ac0e31475996e950a631a1e073",
            "1cd8459841f144799503c4ffc197cf73",
            "00084d03e42f4a6bb98e7bbd81bb64a5",
            "a2bbbec37c084d1db4e57d174ffb4580",
            "760d1948d4f64357a2a5a4c30e9823de",
            "0246c48a54044a4f90144f01361d3997",
            "4a9973d8ce6b48d99607b50e75f290ef",
            "46c63d7dff6b4813bb9f7a6b7e474d8c",
            "7125a1451f294c998ee668b4bde83632",
            "449e066b47f545b5bbf5e626fe6b7a5e",
            "cd622c4dee8c485caad27ae3e3993b3d",
            "627607b3e2b14fb2a2433b09a34ebd05",
            "a21edc540e234ae795d6a536509b94ba",
            "079cf6d633fb4eb0a1a8183f53e2f91e",
            "e56bd386586b49b68f46fc70a81d665e",
            "ea77334edf274a6f919eb1cf6a7e136a"
          ]
        },
        "id": "EF4Hd_CpqQzF",
        "outputId": "1027fcd4-eb1a-4726-a556-58be5d9e3bd0"
      },
      "outputs": [
        {
          "data": {
            "application/vnd.jupyter.widget-view+json": {
              "model_id": "2d69084dda4140b796b68e23993e0c6a",
              "version_major": 2,
              "version_minor": 0
            },
            "text/plain": [
              "Map:   0%|          | 0/25000 [00:00<?, ? examples/s]"
            ]
          },
          "metadata": {},
          "output_type": "display_data"
        },
        {
          "data": {
            "application/vnd.jupyter.widget-view+json": {
              "model_id": "5f86f920288d424680354e2ac3553f91",
              "version_major": 2,
              "version_minor": 0
            },
            "text/plain": [
              "Map:   0%|          | 0/25000 [00:00<?, ? examples/s]"
            ]
          },
          "metadata": {},
          "output_type": "display_data"
        },
        {
          "data": {
            "application/vnd.jupyter.widget-view+json": {
              "model_id": "0246c48a54044a4f90144f01361d3997",
              "version_major": 2,
              "version_minor": 0
            },
            "text/plain": [
              "Map:   0%|          | 0/50000 [00:00<?, ? examples/s]"
            ]
          },
          "metadata": {},
          "output_type": "display_data"
        }
      ],
      "source": [
        "dataset = dataset.map(preprocess, batched=True)\n",
        "dataset.set_format(type=\"torch\", columns=[\"input_ids\", \"attention_mask\", \"label\"])"
      ]
    },
    {
      "cell_type": "code",
      "execution_count": null,
      "metadata": {
        "id": "5tSpY9Z9qT2R"
      },
      "outputs": [],
      "source": [
        "train_loader = DataLoader(dataset[\"train\"], batch_size=16, shuffle=True)\n",
        "test_loader = DataLoader(dataset[\"test\"], batch_size=16)"
      ]
    },
    {
      "cell_type": "code",
      "execution_count": null,
      "metadata": {
        "colab": {
          "base_uri": "https://localhost:8080/",
          "height": 49,
          "referenced_widgets": [
            "d5f3f115bb8b4e02b5c97672991812c0",
            "33d023e84fb34f3b85042aa26b945c4a",
            "ace744fb79f4412baccc06e6f0707105",
            "33cf2df0f92b474c8a84ae0850f10d9e",
            "f9989af006f841a498a6c9c54f80354f",
            "f9123f5e4371425fb685d97df3d71cd1",
            "1e1660c17d444a3c8e3375b5bac03e29",
            "2ab385c6b99645e6b9351eb4c316bc84",
            "13132a3f375a4888aa99ef9800b3346a",
            "a68e78a6d37e464b8925707cdf5df685",
            "08b811f224b445608d3f58246581b955"
          ]
        },
        "id": "_r159mfJsMea",
        "outputId": "1b2cac4a-f019-488c-b52c-20651d15d016"
      },
      "outputs": [
        {
          "data": {
            "application/vnd.jupyter.widget-view+json": {
              "model_id": "d5f3f115bb8b4e02b5c97672991812c0",
              "version_major": 2,
              "version_minor": 0
            },
            "text/plain": [
              "model.safetensors:   0%|          | 0.00/440M [00:00<?, ?B/s]"
            ]
          },
          "metadata": {},
          "output_type": "display_data"
        }
      ],
      "source": [
        "class BERTClassifier(nn.Module):\n",
        "    def __init__(self, dropout=0.3):\n",
        "        super(BERTClassifier, self).__init__()\n",
        "        self.bert = BertModel.from_pretrained(\"bert-base-uncased\")\n",
        "        self.dropout = nn.Dropout(dropout)\n",
        "        self.fc = nn.Linear(768, 2)  # binary classification\n",
        "\n",
        "    def forward(self, input_ids, attention_mask):\n",
        "        outputs = self.bert(input_ids=input_ids, attention_mask=attention_mask)\n",
        "        pooled_output = outputs.pooler_output\n",
        "        out = self.dropout(pooled_output)\n",
        "        return self.fc(out)\n",
        "\n",
        "device = torch.device(\"cuda\" if torch.cuda.is_available() else \"cpu\")\n",
        "model = BERTClassifier().to(device)"
      ]
    },
    {
      "cell_type": "code",
      "execution_count": null,
      "metadata": {
        "id": "hBv1NHtUsPr5"
      },
      "outputs": [],
      "source": [
        "criterion = nn.CrossEntropyLoss()\n",
        "optimizer = AdamW(model.parameters(), lr=2e-5)\n"
      ]
    },
    {
      "cell_type": "code",
      "execution_count": null,
      "metadata": {
        "colab": {
          "base_uri": "https://localhost:8080/"
        },
        "id": "IqdMMJ83sWR5",
        "outputId": "59779a70-f34a-49f0-8bcb-fd2e5e2bdabc"
      },
      "outputs": [
        {
          "name": "stdout",
          "output_type": "stream",
          "text": [
            "Epoch 1/1, Loss: 0.2673\n"
          ]
        }
      ],
      "source": [
        "EPOCHS = 1\n",
        "for epoch in range(EPOCHS):\n",
        "    model.train()\n",
        "    total_loss = 0\n",
        "    for batch in train_loader:\n",
        "        input_ids = batch[\"input_ids\"].to(device)\n",
        "        attention_mask = batch[\"attention_mask\"].to(device)\n",
        "        labels = batch[\"label\"].to(device)\n",
        "\n",
        "        optimizer.zero_grad()\n",
        "        outputs = model(input_ids, attention_mask)\n",
        "        loss = criterion(outputs, labels)\n",
        "        loss.backward()\n",
        "        optimizer.step()\n",
        "\n",
        "        total_loss += loss.item()\n",
        "\n",
        "    avg_loss = total_loss / len(train_loader)\n",
        "    print(f\"Epoch {epoch+1}/{EPOCHS}, Loss: {avg_loss:.4f}\")"
      ]
    },
    {
      "cell_type": "code",
      "execution_count": null,
      "metadata": {
        "colab": {
          "base_uri": "https://localhost:8080/"
        },
        "id": "0dyYCKvtsajz",
        "outputId": "aad4a918-61b3-4d05-b8ae-f7263eb0e38d"
      },
      "outputs": [
        {
          "name": "stdout",
          "output_type": "stream",
          "text": [
            "Epoch 1/3, Loss: 0.1414, Train Acc: 0.9492, Test Acc: 0.9135\n",
            "Epoch 2/3, Loss: 0.0708, Train Acc: 0.9764, Test Acc: 0.9189\n",
            "Epoch 3/3, Loss: 0.0412, Train Acc: 0.9875, Test Acc: 0.9188\n"
          ]
        }
      ],
      "source": [
        "EPOCHS = 3\n",
        "for epoch in range(EPOCHS):\n",
        "    model.train()\n",
        "    total_loss = 0\n",
        "    correct_train = 0\n",
        "    total_train = 0\n",
        "\n",
        "    for batch in train_loader:\n",
        "        input_ids = batch[\"input_ids\"].to(device)\n",
        "        attention_mask = batch[\"attention_mask\"].to(device)\n",
        "        labels = batch[\"label\"].to(device)\n",
        "\n",
        "        optimizer.zero_grad()\n",
        "        outputs = model(input_ids, attention_mask)\n",
        "        loss = criterion(outputs, labels)\n",
        "        loss.backward()\n",
        "        optimizer.step()\n",
        "\n",
        "        total_loss += loss.item()\n",
        "\n",
        "        # train accuracy\n",
        "        preds = torch.argmax(outputs, dim=1)\n",
        "        correct_train += (preds == labels).sum().item()\n",
        "        total_train += labels.size(0)\n",
        "\n",
        "    avg_loss = total_loss / len(train_loader)\n",
        "    train_acc = correct_train / total_train\n",
        "\n",
        "    # Eval test set\n",
        "    model.eval()\n",
        "    correct_test = 0\n",
        "    total_test = 0\n",
        "    with torch.no_grad():\n",
        "        for batch in test_loader:\n",
        "            input_ids = batch[\"input_ids\"].to(device)\n",
        "            attention_mask = batch[\"attention_mask\"].to(device)\n",
        "            labels = batch[\"label\"].to(device)\n",
        "\n",
        "            outputs = model(input_ids, attention_mask)\n",
        "            preds = torch.argmax(outputs, dim=1)\n",
        "            correct_test += (preds == labels).sum().item()\n",
        "            total_test += labels.size(0)\n",
        "\n",
        "    test_acc = correct_test / total_test\n",
        "\n",
        "    print(f\"Epoch {epoch+1}/{EPOCHS}, Loss: {avg_loss:.4f}, Train Acc: {train_acc:.4f}, Test Acc: {test_acc:.4f}\")"
      ]
    }
  ],
  "metadata": {
    "accelerator": "GPU",
    "language_info": {
      "name": "python"
    },
    "colab": {
      "provenance": [],
      "include_colab_link": true
    }
  },
  "nbformat": 4,
  "nbformat_minor": 0
}